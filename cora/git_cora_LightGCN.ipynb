{
  "cells": [
    {
      "cell_type": "code",
      "execution_count": 5,
      "metadata": {
        "id": "1WJvVi4637nZ"
      },
      "outputs": [],
      "source": [
        "from __future__ import print_function\n",
        "from __future__ import division\n",
        "import numpy as np\n",
        "import torch\n",
        "import math\n",
        "from torch.nn.parameter import Parameter\n",
        "from torch.nn.modules.module import Module\n",
        "import torch.nn as nn\n",
        "import torch.nn.functional as F\n",
        "import time\n",
        "import torch.optim as optim\n",
        "import matplotlib.pyplot as plt\n",
        "from tqdm import tqdm\n",
        "import pandas as pd\n",
        "from scipy.sparse import csr_matrix\n",
        "from scipy.sparse import coo_matrix\n",
        "from scipy.sparse import diags\n",
        "from scipy.sparse import eye\n",
        "from pathlib import Path\n",
        "from functools import partial"
      ]
    },
    {
      "cell_type": "code",
      "execution_count": 6,
      "metadata": {
        "id": "Ausi58PD37nZ"
      },
      "outputs": [],
      "source": [
        "device = 'cuda' if torch.cuda.is_available() else 'cpu'"
      ]
    },
    {
      "cell_type": "code",
      "execution_count": 7,
      "metadata": {
        "id": "OHHwijYQ37na"
      },
      "outputs": [],
      "source": [
        "path = Path('data')"
      ]
    },
    {
      "cell_type": "code",
      "execution_count": 8,
      "metadata": {
        "colab": {
          "base_uri": "https://localhost:8080/"
        },
        "id": "8yhAquRh37na",
        "outputId": "db9127ef-0a42-4638-92be-61c31bf405a1"
      },
      "outputs": [
        {
          "output_type": "execute_result",
          "data": {
            "text/plain": [
              "array([['31336', '0', '0', ..., '0', '0', 'Neural_Networks'],\n",
              "       ['1061127', '0', '0', ..., '0', '0', 'Rule_Learning'],\n",
              "       ['1106406', '0', '0', ..., '0', '0', 'Reinforcement_Learning'],\n",
              "       ...,\n",
              "       ['1128978', '0', '0', ..., '0', '0', 'Genetic_Algorithms'],\n",
              "       ['117328', '0', '0', ..., '0', '0', 'Case_Based'],\n",
              "       ['24043', '0', '0', ..., '0', '0', 'Neural_Networks']],\n",
              "      dtype='<U22')"
            ]
          },
          "metadata": {},
          "execution_count": 8
        }
      ],
      "source": [
        "paper_features_label = np.genfromtxt(path/'cora.content', dtype=str)\n",
        "paper_features_label"
      ]
    },
    {
      "cell_type": "code",
      "execution_count": 9,
      "metadata": {
        "colab": {
          "base_uri": "https://localhost:8080/"
        },
        "id": "-646JySY37nb",
        "outputId": "aad00376-e8cf-4163-d9ab-1414a4353ecf"
      },
      "outputs": [
        {
          "output_type": "stream",
          "name": "stdout",
          "text": [
            "2708\n"
          ]
        }
      ],
      "source": [
        "labels = paper_features_label[:, -1]\n",
        "lbl2idx = {k:v for v,k in enumerate(sorted(np.unique(labels)))}\n",
        "labels = [lbl2idx[e] for e in labels]\n",
        "labels[:5]\n",
        "print(len(labels))"
      ]
    },
    {
      "cell_type": "code",
      "execution_count": 10,
      "metadata": {
        "colab": {
          "base_uri": "https://localhost:8080/"
        },
        "id": "3hX9mpQB37nb",
        "outputId": "911c638a-fdf7-4f68-ee61-6756ffb236ed"
      },
      "outputs": [
        {
          "output_type": "execute_result",
          "data": {
            "text/plain": [
              "array([  31336, 1061127, 1106406, ..., 1128978,  117328,   24043],\n",
              "      dtype=int32)"
            ]
          },
          "metadata": {},
          "execution_count": 10
        }
      ],
      "source": [
        "papers = paper_features_label[:,0].astype(np.int32)\n",
        "papers"
      ]
    },
    {
      "cell_type": "code",
      "execution_count": 11,
      "metadata": {
        "colab": {
          "base_uri": "https://localhost:8080/"
        },
        "id": "3xbFaQye37nc",
        "outputId": "44bbdab3-1a7b-4c67-b4c8-744da5206c2a"
      },
      "outputs": [
        {
          "output_type": "execute_result",
          "data": {
            "text/plain": [
              "array([[ 163,  402],\n",
              "       [ 163,  659],\n",
              "       [ 163, 1696],\n",
              "       ...,\n",
              "       [1887, 2258],\n",
              "       [1902, 1887],\n",
              "       [ 837, 1686]], dtype=int32)"
            ]
          },
          "metadata": {},
          "execution_count": 11
        }
      ],
      "source": [
        "paper2idx = {k:v for v,k in enumerate(papers)}\n",
        "edges = np.genfromtxt(path/'cora.cites', dtype=np.int32)\n",
        "edges = np.asarray([paper2idx[e] for e in edges.flatten()], np.int32).reshape(edges.shape)\n",
        "edges"
      ]
    },
    {
      "cell_type": "code",
      "execution_count": 12,
      "metadata": {
        "id": "5jzX77jK37nc"
      },
      "outputs": [],
      "source": [
        "adj = coo_matrix((np.ones(edges.shape[0]), (edges[:, 0], edges[:, 1])),\n",
        "                 shape=(len(labels), len(labels)), dtype=np.float32)\n",
        "\n",
        "adj = adj + adj.T.multiply(adj.T > adj) - adj.multiply(adj.T > adj)"
      ]
    },
    {
      "cell_type": "code",
      "execution_count": 13,
      "metadata": {
        "id": "CKXN_kwQ37nc"
      },
      "outputs": [],
      "source": [
        "def normalize(mx):\n",
        "    rowsum = np.array(mx.sum(1))\n",
        "    r_inv = (rowsum ** -1).flatten()\n",
        "    r_inv[np.isinf(r_inv)] = 0.\n",
        "    r_mat_inv = diags(r_inv)\n",
        "    mx = r_mat_inv.dot(mx)\n",
        "    return mx"
      ]
    },
    {
      "cell_type": "code",
      "execution_count": 14,
      "metadata": {
        "id": "R5RDP5fH37nd"
      },
      "outputs": [],
      "source": [
        "adj = normalize(adj + eye(adj.shape[0])) #Normalizing for removing gradient vanishing and exploding problem"
      ]
    },
    {
      "cell_type": "code",
      "execution_count": 15,
      "metadata": {
        "id": "2WwLHCOA37nd"
      },
      "outputs": [],
      "source": [
        "adj = torch.FloatTensor(adj.todense())\n",
        "labels = torch.LongTensor(labels)"
      ]
    },
    {
      "cell_type": "code",
      "execution_count": 19,
      "metadata": {
        "id": "51TSjMET37nd"
      },
      "outputs": [],
      "source": [
        "np.random.seed(34)\n",
        "n_train = 200\n",
        "n_val = 300\n",
        "n_test = len(labels) - n_train - n_val\n",
        "idxs = np.random.permutation(len(labels))\n",
        "idx_train = torch.LongTensor(idxs[:n_train])\n",
        "idx_val   = torch.LongTensor(idxs[n_train:n_train+n_val])\n",
        "idx_test  = torch.LongTensor(idxs[n_train+n_val:])"
      ]
    },
    {
      "cell_type": "code",
      "execution_count": 20,
      "metadata": {
        "id": "41NfF5l_37nd"
      },
      "outputs": [],
      "source": [
        "adj = adj.to(device)\n",
        "labels = labels.to(device)\n",
        "idx_train = idx_train.to(device)\n",
        "idx_val = idx_val.to(device)\n",
        "idx_test = idx_test.to(device)"
      ]
    },
    {
      "cell_type": "code",
      "execution_count": 21,
      "metadata": {
        "id": "YyGUZNeu37nd"
      },
      "outputs": [],
      "source": [
        "class LightGCN(nn.Module):\n",
        "    def __init__(self, num_nodes, embedding_dim, num_layers, num_classes):\n",
        "        super(LightGCN, self).__init__()\n",
        "\n",
        "        self.embedding = nn.Embedding(num_nodes, embedding_dim)\n",
        "        self.num_layers = num_layers\n",
        "        self.classifier = nn.Linear(embedding_dim, num_classes)\n",
        "        nn.init.normal_(self.embedding.weight, std=0.1)\n",
        "\n",
        "    def forward(self, adj):\n",
        "        x = self.embedding.weight\n",
        "        for _ in range(self.num_layers):\n",
        "            x = torch.spmm(adj, x)  # Sparse matrix multiplication\n",
        "\n",
        "        x = self.classifier(x)\n",
        "\n",
        "        return F.log_softmax(x, dim=1)"
      ]
    },
    {
      "cell_type": "code",
      "execution_count": 22,
      "metadata": {
        "colab": {
          "base_uri": "https://localhost:8080/"
        },
        "id": "loVKzSIs37nd",
        "outputId": "71534c31-7ff9-4464-dfd0-edf7ca2a292c"
      },
      "outputs": [
        {
          "output_type": "execute_result",
          "data": {
            "text/plain": [
              "(7, 2708)"
            ]
          },
          "metadata": {},
          "execution_count": 22
        }
      ],
      "source": [
        "n_labels = labels.max().item() + 1\n",
        "n_nodes = len(labels)\n",
        "n_labels, n_nodes"
      ]
    },
    {
      "cell_type": "code",
      "execution_count": 23,
      "metadata": {
        "id": "Q1ELipEy37nd"
      },
      "outputs": [],
      "source": [
        "torch.manual_seed(34)\n",
        "\n",
        "model = LightGCN(num_nodes=n_nodes,\n",
        "                 embedding_dim=64,\n",
        "                 num_layers=20,\n",
        "                 num_classes=n_labels)\n",
        "optimizer = optim.Adam(model.parameters(),\n",
        "                       lr=0.001, weight_decay=5e-4)\n",
        "\n",
        "\n",
        "model = model.to(device)\n",
        "\n",
        "def step():\n",
        "    t = time.time()\n",
        "    model.train()\n",
        "    optimizer.zero_grad()\n",
        "    output = model(adj)\n",
        "    loss = F.nll_loss(output[idx_train], labels[idx_train])\n",
        "    acc = accuracy(output[idx_train], labels[idx_train])\n",
        "    loss.backward()\n",
        "    optimizer.step()\n",
        "\n",
        "    return loss.item(), acc\n",
        "\n",
        "def evaluate(idx):\n",
        "    model.eval()\n",
        "    output = model(adj)\n",
        "    loss = F.nll_loss(output[idx], labels[idx])\n",
        "    acc = accuracy(output[idx], labels[idx])\n",
        "\n",
        "    return loss.item(), acc"
      ]
    },
    {
      "cell_type": "code",
      "execution_count": 24,
      "metadata": {
        "id": "P_hJ6AjU37nd"
      },
      "outputs": [],
      "source": [
        "def accuracy(output, labels):\n",
        "    preds = output.max(1)[1].type_as(labels)\n",
        "    correct = preds.eq(labels).double()\n",
        "    correct = correct.sum()\n",
        "    return correct / len(labels)"
      ]
    },
    {
      "cell_type": "code",
      "execution_count": 25,
      "metadata": {
        "colab": {
          "base_uri": "https://localhost:8080/"
        },
        "id": "Ki-5bGT737ne",
        "outputId": "35847b83-74c4-4b93-cbc3-995bfbee3ddb"
      },
      "outputs": [
        {
          "output_type": "stream",
          "name": "stderr",
          "text": [
            "  1%|          | 7/1000 [00:01<02:41,  6.14it/s]"
          ]
        },
        {
          "output_type": "stream",
          "name": "stdout",
          "text": [
            "Epochs: 0, Train Loss: 1.938, Train Acc: 0.140, Validation Loss: 1.917, Validation Acc: 0.197\n"
          ]
        },
        {
          "output_type": "stream",
          "name": "stderr",
          "text": [
            " 11%|█         | 111/1000 [00:02<00:11, 79.46it/s]"
          ]
        },
        {
          "output_type": "stream",
          "name": "stdout",
          "text": [
            "Epochs: 99, Train Loss: 1.586, Train Acc: 0.705, Validation Loss: 1.645, Validation Acc: 0.703\n"
          ]
        },
        {
          "output_type": "stream",
          "name": "stderr",
          "text": [
            " 21%|██        | 210/1000 [00:03<00:09, 82.56it/s]"
          ]
        },
        {
          "output_type": "stream",
          "name": "stdout",
          "text": [
            "Epochs: 199, Train Loss: 1.040, Train Acc: 0.835, Validation Loss: 1.191, Validation Acc: 0.777\n"
          ]
        },
        {
          "output_type": "stream",
          "name": "stderr",
          "text": [
            " 31%|███       | 309/1000 [00:05<00:08, 82.24it/s]"
          ]
        },
        {
          "output_type": "stream",
          "name": "stdout",
          "text": [
            "Epochs: 299, Train Loss: 0.783, Train Acc: 0.850, Validation Loss: 0.979, Validation Acc: 0.803\n"
          ]
        },
        {
          "output_type": "stream",
          "name": "stderr",
          "text": [
            " 42%|████▏     | 417/1000 [00:06<00:07, 81.79it/s]"
          ]
        },
        {
          "output_type": "stream",
          "name": "stdout",
          "text": [
            "Epochs: 399, Train Loss: 0.657, Train Acc: 0.885, Validation Loss: 0.881, Validation Acc: 0.810\n"
          ]
        },
        {
          "output_type": "stream",
          "name": "stderr",
          "text": [
            " 52%|█████▏    | 516/1000 [00:07<00:05, 82.79it/s]"
          ]
        },
        {
          "output_type": "stream",
          "name": "stdout",
          "text": [
            "Epochs: 499, Train Loss: 0.583, Train Acc: 0.895, Validation Loss: 0.827, Validation Acc: 0.823\n"
          ]
        },
        {
          "output_type": "stream",
          "name": "stderr",
          "text": [
            " 62%|██████▏   | 615/1000 [00:08<00:04, 82.57it/s]"
          ]
        },
        {
          "output_type": "stream",
          "name": "stdout",
          "text": [
            "Epochs: 599, Train Loss: 0.533, Train Acc: 0.900, Validation Loss: 0.793, Validation Acc: 0.827\n"
          ]
        },
        {
          "output_type": "stream",
          "name": "stderr",
          "text": [
            " 71%|███████▏  | 714/1000 [00:10<00:03, 82.00it/s]"
          ]
        },
        {
          "output_type": "stream",
          "name": "stdout",
          "text": [
            "Epochs: 699, Train Loss: 0.497, Train Acc: 0.910, Validation Loss: 0.771, Validation Acc: 0.823\n"
          ]
        },
        {
          "output_type": "stream",
          "name": "stderr",
          "text": [
            " 81%|████████▏ | 813/1000 [00:11<00:02, 82.52it/s]"
          ]
        },
        {
          "output_type": "stream",
          "name": "stdout",
          "text": [
            "Epochs: 799, Train Loss: 0.469, Train Acc: 0.920, Validation Loss: 0.755, Validation Acc: 0.817\n"
          ]
        },
        {
          "output_type": "stream",
          "name": "stderr",
          "text": [
            " 91%|█████████ | 912/1000 [00:12<00:01, 82.13it/s]"
          ]
        },
        {
          "output_type": "stream",
          "name": "stdout",
          "text": [
            "Epochs: 899, Train Loss: 0.446, Train Acc: 0.920, Validation Loss: 0.743, Validation Acc: 0.813\n"
          ]
        },
        {
          "output_type": "stream",
          "name": "stderr",
          "text": [
            "100%|██████████| 1000/1000 [00:13<00:00, 74.50it/s]"
          ]
        },
        {
          "output_type": "stream",
          "name": "stdout",
          "text": [
            "Epochs: 999, Train Loss: 0.428, Train Acc: 0.925, Validation Loss: 0.734, Validation Acc: 0.810\n"
          ]
        },
        {
          "output_type": "stream",
          "name": "stderr",
          "text": [
            "\n"
          ]
        }
      ],
      "source": [
        "epochs = 1000\n",
        "print_steps = 100\n",
        "train_loss, train_acc = [], []\n",
        "val_loss, val_acc = [], []\n",
        "\n",
        "for i in tqdm(range(epochs)):\n",
        "    tl, ta = step()\n",
        "    train_loss += [tl]\n",
        "    train_acc += [ta]\n",
        "\n",
        "    if((i+1)%print_steps) == 0 or i == 0:\n",
        "        tl, ta = evaluate(idx_train)\n",
        "        vl, va = evaluate(idx_val)\n",
        "        val_loss += [vl]\n",
        "        val_acc += [va]\n",
        "\n",
        "        print('Epochs: {}, Train Loss: {:.3f}, Train Acc: {:.3f}, Validation Loss: {:.3f}, Validation Acc: {:.3f}'.format(i, tl, ta, vl, va))"
      ]
    },
    {
      "cell_type": "code",
      "execution_count": 26,
      "metadata": {
        "colab": {
          "base_uri": "https://localhost:8080/",
          "height": 432
        },
        "id": "rZPBcgUT37ne",
        "outputId": "75e96b67-44e0-4b83-d9ec-47ad4c7c06f8"
      },
      "outputs": [
        {
          "output_type": "display_data",
          "data": {
            "text/plain": [
              "<Figure size 1500x500 with 2 Axes>"
            ],
            "image/png": "[encoded data removed]"
          },
          "metadata": {}
        }
      ],
      "source": [
        "fig, axes = plt.subplots(1,2, figsize=(15,5))\n",
        "\n",
        "ax = axes[0]\n",
        "axes[0].plot(train_loss[::print_steps] + [train_loss[-1]], label='Train')\n",
        "axes[0].plot(val_loss, label='Validation')\n",
        "train_acc_cpu = [t.cpu().numpy() if isinstance(t, torch.Tensor) else t for t in train_acc]\n",
        "val_acc_cpu = [t.cpu().numpy() if isinstance(t, torch.Tensor) else t for t in val_acc]\n",
        "axes[1].plot(train_acc_cpu[::print_steps] + [train_acc_cpu[-1]], label='Train')\n",
        "axes[1].plot(val_acc_cpu, label='Validation')\n",
        "axes[0].grid()\n",
        "axes[1].grid()\n",
        "\n",
        "for ax, t in zip(axes, ['Loss','Accuracy']):\n",
        "    ax.legend(), ax.set_title(t, size=15)"
      ]
    },
    {
      "cell_type": "code",
      "execution_count": 27,
      "metadata": {
        "id": "BTP2_33l37ne"
      },
      "outputs": [],
      "source": [
        "output = model(adj)"
      ]
    },
    {
      "cell_type": "code",
      "execution_count": 28,
      "metadata": {
        "colab": {
          "base_uri": "https://localhost:8080/",
          "height": 363
        },
        "id": "Osv-fqcS37ne",
        "outputId": "1ee0cd17-5a11-4d01-dab8-149c07fc8f43"
      },
      "outputs": [
        {
          "output_type": "execute_result",
          "data": {
            "text/plain": [
              "                     Real                    Pred\n",
              "0         Neural_Networks         Neural_Networks\n",
              "1  Reinforcement_Learning  Reinforcement_Learning\n",
              "2   Probabilistic_Methods   Probabilistic_Methods\n",
              "3         Neural_Networks         Neural_Networks\n",
              "4         Neural_Networks                  Theory\n",
              "5      Genetic_Algorithms      Genetic_Algorithms\n",
              "6         Neural_Networks         Neural_Networks\n",
              "7   Probabilistic_Methods   Probabilistic_Methods\n",
              "8         Neural_Networks         Neural_Networks\n",
              "9         Neural_Networks         Neural_Networks"
            ],
            "text/html": [
              "\n",
              "  <div id=\"df-77ee896e-ffe8-4a39-927a-8e15fb4dddbd\" class=\"colab-df-container\">\n",
              "    <div>\n",
              "<style scoped>\n",
              "    .dataframe tbody tr th:only-of-type {\n",
              "        vertical-align: middle;\n",
              "    }\n",
              "\n",
              "    .dataframe tbody tr th {\n",
              "        vertical-align: top;\n",
              "    }\n",
              "\n",
              "    .dataframe thead th {\n",
              "        text-align: right;\n",
              "    }\n",
              "</style>\n",
              "<table border=\"1\" class=\"dataframe\">\n",
              "  <thead>\n",
              "    <tr style=\"text-align: right;\">\n",
              "      <th></th>\n",
              "      <th>Real</th>\n",
              "      <th>Pred</th>\n",
              "    </tr>\n",
              "  </thead>\n",
              "  <tbody>\n",
              "    <tr>\n",
              "      <th>0</th>\n",
              "      <td>Neural_Networks</td>\n",
              "      <td>Neural_Networks</td>\n",
              "    </tr>\n",
              "    <tr>\n",
              "      <th>1</th>\n",
              "      <td>Reinforcement_Learning</td>\n",
              "      <td>Reinforcement_Learning</td>\n",
              "    </tr>\n",
              "    <tr>\n",
              "      <th>2</th>\n",
              "      <td>Probabilistic_Methods</td>\n",
              "      <td>Probabilistic_Methods</td>\n",
              "    </tr>\n",
              "    <tr>\n",
              "      <th>3</th>\n",
              "      <td>Neural_Networks</td>\n",
              "      <td>Neural_Networks</td>\n",
              "    </tr>\n",
              "    <tr>\n",
              "      <th>4</th>\n",
              "      <td>Neural_Networks</td>\n",
              "      <td>Theory</td>\n",
              "    </tr>\n",
              "    <tr>\n",
              "      <th>5</th>\n",
              "      <td>Genetic_Algorithms</td>\n",
              "      <td>Genetic_Algorithms</td>\n",
              "    </tr>\n",
              "    <tr>\n",
              "      <th>6</th>\n",
              "      <td>Neural_Networks</td>\n",
              "      <td>Neural_Networks</td>\n",
              "    </tr>\n",
              "    <tr>\n",
              "      <th>7</th>\n",
              "      <td>Probabilistic_Methods</td>\n",
              "      <td>Probabilistic_Methods</td>\n",
              "    </tr>\n",
              "    <tr>\n",
              "      <th>8</th>\n",
              "      <td>Neural_Networks</td>\n",
              "      <td>Neural_Networks</td>\n",
              "    </tr>\n",
              "    <tr>\n",
              "      <th>9</th>\n",
              "      <td>Neural_Networks</td>\n",
              "      <td>Neural_Networks</td>\n",
              "    </tr>\n",
              "  </tbody>\n",
              "</table>\n",
              "</div>\n",
              "    <div class=\"colab-df-buttons\">\n",
              "\n",
              "  <div class=\"colab-df-container\">\n",
              "    <button class=\"colab-df-convert\" onclick=\"convertToInteractive('df-77ee896e-ffe8-4a39-927a-8e15fb4dddbd')\"\n",
              "            title=\"Convert this dataframe to an interactive table.\"\n",
              "            style=\"display:none;\">\n",
              "\n",
              "  <svg xmlns=\"http://www.w3.org/2000/svg\" height=\"24px\" viewBox=\"0 -960 960 960\">\n",
              "    <path d=\"M120-120v-720h720v720H120Zm60-500h600v-160H180v160Zm220 220h160v-160H400v160Zm0 220h160v-160H400v160ZM180-400h160v-160H180v160Zm440 0h160v-160H620v160ZM180-180h160v-160H180v160Zm440 0h160v-160H620v160Z\"/>\n",
              "  </svg>\n",
              "    </button>\n",
              "\n",
              "  <style>\n",
              "    .colab-df-container {\n",
              "      display:flex;\n",
              "      gap: 12px;\n",
              "    }\n",
              "\n",
              "    .colab-df-convert {\n",
              "      background-color: #E8F0FE;\n",
              "      border: none;\n",
              "      border-radius: 50%;\n",
              "      cursor: pointer;\n",
              "      display: none;\n",
              "      fill: #1967D2;\n",
              "      height: 32px;\n",
              "      padding: 0 0 0 0;\n",
              "      width: 32px;\n",
              "    }\n",
              "\n",
              "    .colab-df-convert:hover {\n",
              "      background-color: #E2EBFA;\n",
              "      box-shadow: 0px 1px 2px rgba(60, 64, 67, 0.3), 0px 1px 3px 1px rgba(60, 64, 67, 0.15);\n",
              "      fill: #174EA6;\n",
              "    }\n",
              "\n",
              "    .colab-df-buttons div {\n",
              "      margin-bottom: 4px;\n",
              "    }\n",
              "\n",
              "    [theme=dark] .colab-df-convert {\n",
              "      background-color: #3B4455;\n",
              "      fill: #D2E3FC;\n",
              "    }\n",
              "\n",
              "    [theme=dark] .colab-df-convert:hover {\n",
              "      background-color: #434B5C;\n",
              "      box-shadow: 0px 1px 3px 1px rgba(0, 0, 0, 0.15);\n",
              "      filter: drop-shadow(0px 1px 2px rgba(0, 0, 0, 0.3));\n",
              "      fill: #FFFFFF;\n",
              "    }\n",
              "  </style>\n",
              "\n",
              "    <script>\n",
              "      const buttonEl =\n",
              "        document.querySelector('#df-77ee896e-ffe8-4a39-927a-8e15fb4dddbd button.colab-df-convert');\n",
              "      buttonEl.style.display =\n",
              "        google.colab.kernel.accessAllowed ? 'block' : 'none';\n",
              "\n",
              "      async function convertToInteractive(key) {\n",
              "        const element = document.querySelector('#df-77ee896e-ffe8-4a39-927a-8e15fb4dddbd');\n",
              "        const dataTable =\n",
              "          await google.colab.kernel.invokeFunction('convertToInteractive',\n",
              "                                                    [key], {});\n",
              "        if (!dataTable) return;\n",
              "\n",
              "        const docLinkHtml = 'Like what you see? Visit the ' +\n",
              "          '<a target=\"_blank\" href=https://colab.research.google.com/notebooks/data_table.ipynb>data table notebook</a>'\n",
              "          + ' to learn more about interactive tables.';\n",
              "        element.innerHTML = '';\n",
              "        dataTable['output_type'] = 'display_data';\n",
              "        await google.colab.output.renderOutput(dataTable, element);\n",
              "        const docLink = document.createElement('div');\n",
              "        docLink.innerHTML = docLinkHtml;\n",
              "        element.appendChild(docLink);\n",
              "      }\n",
              "    </script>\n",
              "  </div>\n",
              "\n",
              "\n",
              "<div id=\"df-0d9e8c67-f57c-4438-9031-6d256ab17219\">\n",
              "  <button class=\"colab-df-quickchart\" onclick=\"quickchart('df-0d9e8c67-f57c-4438-9031-6d256ab17219')\"\n",
              "            title=\"Suggest charts\"\n",
              "            style=\"display:none;\">\n",
              "\n",
              "<svg xmlns=\"http://www.w3.org/2000/svg\" height=\"24px\"viewBox=\"0 0 24 24\"\n",
              "     width=\"24px\">\n",
              "    <g>\n",
              "        <path d=\"M19 3H5c-1.1 0-2 .9-2 2v14c0 1.1.9 2 2 2h14c1.1 0 2-.9 2-2V5c0-1.1-.9-2-2-2zM9 17H7v-7h2v7zm4 0h-2V7h2v10zm4 0h-2v-4h2v4z\"/>\n",
              "    </g>\n",
              "</svg>\n",
              "  </button>\n",
              "\n",
              "<style>\n",
              "  .colab-df-quickchart {\n",
              "      --bg-color: #E8F0FE;\n",
              "      --fill-color: #1967D2;\n",
              "      --hover-bg-color: #E2EBFA;\n",
              "      --hover-fill-color: #174EA6;\n",
              "      --disabled-fill-color: #AAA;\n",
              "      --disabled-bg-color: #DDD;\n",
              "  }\n",
              "\n",
              "  [theme=dark] .colab-df-quickchart {\n",
              "      --bg-color: #3B4455;\n",
              "      --fill-color: #D2E3FC;\n",
              "      --hover-bg-color: #434B5C;\n",
              "      --hover-fill-color: #FFFFFF;\n",
              "      --disabled-bg-color: #3B4455;\n",
              "      --disabled-fill-color: #666;\n",
              "  }\n",
              "\n",
              "  .colab-df-quickchart {\n",
              "    background-color: var(--bg-color);\n",
              "    border: none;\n",
              "    border-radius: 50%;\n",
              "    cursor: pointer;\n",
              "    display: none;\n",
              "    fill: var(--fill-color);\n",
              "    height: 32px;\n",
              "    padding: 0;\n",
              "    width: 32px;\n",
              "  }\n",
              "\n",
              "  .colab-df-quickchart:hover {\n",
              "    background-color: var(--hover-bg-color);\n",
              "    box-shadow: 0 1px 2px rgba(60, 64, 67, 0.3), 0 1px 3px 1px rgba(60, 64, 67, 0.15);\n",
              "    fill: var(--button-hover-fill-color);\n",
              "  }\n",
              "\n",
              "  .colab-df-quickchart-complete:disabled,\n",
              "  .colab-df-quickchart-complete:disabled:hover {\n",
              "    background-color: var(--disabled-bg-color);\n",
              "    fill: var(--disabled-fill-color);\n",
              "    box-shadow: none;\n",
              "  }\n",
              "\n",
              "  .colab-df-spinner {\n",
              "    border: 2px solid var(--fill-color);\n",
              "    border-color: transparent;\n",
              "    border-bottom-color: var(--fill-color);\n",
              "    animation:\n",
              "      spin 1s steps(1) infinite;\n",
              "  }\n",
              "\n",
              "  @keyframes spin {\n",
              "    0% {\n",
              "      border-color: transparent;\n",
              "      border-bottom-color: var(--fill-color);\n",
              "      border-left-color: var(--fill-color);\n",
              "    }\n",
              "    20% {\n",
              "      border-color: transparent;\n",
              "      border-left-color: var(--fill-color);\n",
              "      border-top-color: var(--fill-color);\n",
              "    }\n",
              "    30% {\n",
              "      border-color: transparent;\n",
              "      border-left-color: var(--fill-color);\n",
              "      border-top-color: var(--fill-color);\n",
              "      border-right-color: var(--fill-color);\n",
              "    }\n",
              "    40% {\n",
              "      border-color: transparent;\n",
              "      border-right-color: var(--fill-color);\n",
              "      border-top-color: var(--fill-color);\n",
              "    }\n",
              "    60% {\n",
              "      border-color: transparent;\n",
              "      border-right-color: var(--fill-color);\n",
              "    }\n",
              "    80% {\n",
              "      border-color: transparent;\n",
              "      border-right-color: var(--fill-color);\n",
              "      border-bottom-color: var(--fill-color);\n",
              "    }\n",
              "    90% {\n",
              "      border-color: transparent;\n",
              "      border-bottom-color: var(--fill-color);\n",
              "    }\n",
              "  }\n",
              "</style>\n",
              "\n",
              "  <script>\n",
              "    async function quickchart(key) {\n",
              "      const quickchartButtonEl =\n",
              "        document.querySelector('#' + key + ' button');\n",
              "      quickchartButtonEl.disabled = true;  // To prevent multiple clicks.\n",
              "      quickchartButtonEl.classList.add('colab-df-spinner');\n",
              "      try {\n",
              "        const charts = await google.colab.kernel.invokeFunction(\n",
              "            'suggestCharts', [key], {});\n",
              "      } catch (error) {\n",
              "        console.error('Error during call to suggestCharts:', error);\n",
              "      }\n",
              "      quickchartButtonEl.classList.remove('colab-df-spinner');\n",
              "      quickchartButtonEl.classList.add('colab-df-quickchart-complete');\n",
              "    }\n",
              "    (() => {\n",
              "      let quickchartButtonEl =\n",
              "        document.querySelector('#df-0d9e8c67-f57c-4438-9031-6d256ab17219 button');\n",
              "      quickchartButtonEl.style.display =\n",
              "        google.colab.kernel.accessAllowed ? 'block' : 'none';\n",
              "    })();\n",
              "  </script>\n",
              "</div>\n",
              "    </div>\n",
              "  </div>\n"
            ],
            "application/vnd.google.colaboratory.intrinsic+json": {
              "type": "dataframe",
              "variable_name": "df",
              "summary": "{\n  \"name\": \"df\",\n  \"rows\": 10,\n  \"fields\": [\n    {\n      \"column\": \"Real\",\n      \"properties\": {\n        \"dtype\": \"category\",\n        \"num_unique_values\": 4,\n        \"samples\": [\n          \"Reinforcement_Learning\",\n          \"Genetic_Algorithms\",\n          \"Neural_Networks\"\n        ],\n        \"semantic_type\": \"\",\n        \"description\": \"\"\n      }\n    },\n    {\n      \"column\": \"Pred\",\n      \"properties\": {\n        \"dtype\": \"string\",\n        \"num_unique_values\": 5,\n        \"samples\": [\n          \"Reinforcement_Learning\",\n          \"Genetic_Algorithms\",\n          \"Probabilistic_Methods\"\n        ],\n        \"semantic_type\": \"\",\n        \"description\": \"\"\n      }\n    }\n  ]\n}"
            }
          },
          "metadata": {},
          "execution_count": 28
        }
      ],
      "source": [
        "samples = 10\n",
        "idx_sample = idx_test[torch.randperm(len(idx_test))[:samples]]\n",
        "\n",
        "idx2lbl = {v:k for k,v in lbl2idx.items()}\n",
        "df = pd.DataFrame({'Real': [idx2lbl[e] for e in labels[idx_sample].tolist()],\n",
        "                   'Pred': [idx2lbl[e] for e in output[idx_sample].argmax(1).tolist()]})\n",
        "df"
      ]
    },
    {
      "cell_type": "code",
      "execution_count": 28,
      "metadata": {
        "id": "tXLH2A4937ne"
      },
      "outputs": [],
      "source": []
    }
  ],
  "metadata": {
    "kernelspec": {
      "display_name": "Python 3",
      "name": "python3"
    },
    "language_info": {
      "codemirror_mode": {
        "name": "ipython",
        "version": 3
      },
      "file_extension": ".py",
      "mimetype": "text/x-python",
      "name": "python",
      "nbconvert_exporter": "python",
      "pygments_lexer": "ipython3",
      "version": "3.8.19"
    },
    "colab": {
      "provenance": [],
      "gpuType": "T4"
    },
    "accelerator": "GPU"
  },
  "nbformat": 4,
  "nbformat_minor": 0
}