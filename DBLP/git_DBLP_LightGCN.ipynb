{
  "cells": [
    {
      "cell_type": "code",
      "source": [
        "from __future__ import print_function\n",
        "from __future__ import division\n",
        "import numpy as np\n",
        "import torch\n",
        "import math\n",
        "from torch.nn.parameter import Parameter\n",
        "from torch.nn.modules.module import Module\n",
        "import torch.nn as nn\n",
        "import torch.nn.functional as F\n",
        "import time\n",
        "import torch.optim as optim\n",
        "import matplotlib.pyplot as plt\n",
        "from tqdm import tqdm\n",
        "import pandas as pd\n",
        "import scipy.sparse as sp\n",
        "from scipy.sparse import csr_matrix\n",
        "from scipy.sparse import coo_matrix\n",
        "from scipy.sparse import diags\n",
        "from scipy.sparse import eye\n",
        "from pathlib import Path\n",
        "from functools import partial\n",
        "import pickle\n"
      ],
      "metadata": {
        "id": "2XYOJee8dlF7"
      },
      "execution_count": 28,
      "outputs": []
    },
    {
      "cell_type": "code",
      "source": [
        "device = device = 'cuda' if torch.cuda.is_available() else 'cpu'"
      ],
      "metadata": {
        "id": "CdGV7eJ5dlIX"
      },
      "execution_count": 29,
      "outputs": []
    },
    {
      "cell_type": "code",
      "source": [
        "!wget https://github.com/gyy1225/dblp_gcn/raw/master/data/dblp/edges.pkl\n",
        "!wget https://github.com/gyy1225/dblp_gcn/raw/master/data/dblp/labels.pkl"
      ],
      "metadata": {
        "colab": {
          "base_uri": "https://localhost:8080/"
        },
        "id": "mg6FhyxVdlLH",
        "outputId": "af938ef5-ba8b-4468-e331-4995843511c4"
      },
      "execution_count": 30,
      "outputs": [
        {
          "output_type": "stream",
          "name": "stdout",
          "text": [
            "--2024-09-24 11:48:57--  https://github.com/gyy1225/dblp_gcn/raw/master/data/dblp/edges.pkl\n",
            "Resolving github.com (github.com)... 140.82.113.4\n",
            "Connecting to github.com (github.com)|140.82.113.4|:443... connected.\n",
            "HTTP request sent, awaiting response... 302 Found\n",
            "Location: https://raw.githubusercontent.com/gyy1225/dblp_gcn/master/data/dblp/edges.pkl [following]\n",
            "--2024-09-24 11:48:57--  https://raw.githubusercontent.com/gyy1225/dblp_gcn/master/data/dblp/edges.pkl\n",
            "Resolving raw.githubusercontent.com (raw.githubusercontent.com)... 185.199.108.133, 185.199.109.133, 185.199.110.133, ...\n",
            "Connecting to raw.githubusercontent.com (raw.githubusercontent.com)|185.199.108.133|:443... connected.\n",
            "HTTP request sent, awaiting response... 200 OK\n",
            "Length: 1110741 (1.1M) [application/octet-stream]\n",
            "Saving to: ‘edges.pkl.2’\n",
            "\n",
            "edges.pkl.2         100%[===================>]   1.06M  --.-KB/s    in 0.04s   \n",
            "\n",
            "2024-09-24 11:48:57 (27.6 MB/s) - ‘edges.pkl.2’ saved [1110741/1110741]\n",
            "\n",
            "--2024-09-24 11:48:57--  https://github.com/gyy1225/dblp_gcn/raw/master/data/dblp/labels.pkl\n",
            "Resolving github.com (github.com)... 140.82.112.3\n",
            "Connecting to github.com (github.com)|140.82.112.3|:443... connected.\n",
            "HTTP request sent, awaiting response... 302 Found\n",
            "Location: https://raw.githubusercontent.com/gyy1225/dblp_gcn/master/data/dblp/labels.pkl [following]\n",
            "--2024-09-24 11:48:58--  https://raw.githubusercontent.com/gyy1225/dblp_gcn/master/data/dblp/labels.pkl\n",
            "Resolving raw.githubusercontent.com (raw.githubusercontent.com)... 185.199.108.133, 185.199.109.133, 185.199.110.133, ...\n",
            "Connecting to raw.githubusercontent.com (raw.githubusercontent.com)|185.199.108.133|:443... connected.\n",
            "HTTP request sent, awaiting response... 200 OK\n",
            "Length: 51756 (51K) [application/octet-stream]\n",
            "Saving to: ‘labels.pkl.2’\n",
            "\n",
            "labels.pkl.2        100%[===================>]  50.54K  --.-KB/s    in 0.009s  \n",
            "\n",
            "2024-09-24 11:48:58 (5.70 MB/s) - ‘labels.pkl.2’ saved [51756/51756]\n",
            "\n"
          ]
        }
      ]
    },
    {
      "cell_type": "code",
      "source": [
        "# load data\n",
        "\n",
        "def normalize(mx):\n",
        "    \"\"\"Row-normalize sparse matrix\"\"\"\n",
        "    rowsum = np.array(mx.sum(1),dtype=np.float32)\n",
        "    r_inv = np.power(rowsum, -1).flatten()\n",
        "    r_inv[np.isinf(r_inv)] = 0.\n",
        "    r_mat_inv = sp.diags(r_inv)\n",
        "    mx = r_mat_inv.dot(mx)\n",
        "    return mx\n",
        "\n",
        "def sparse_mx_to_torch_sparse_tensor(sparse_mx):\n",
        "    \"\"\"Convert a scipy sparse matrix to a torch sparse tensor.\"\"\"\n",
        "    sparse_mx = sparse_mx.tocoo().astype(np.float32)\n",
        "    indices = torch.from_numpy(\n",
        "        np.vstack((sparse_mx.row, sparse_mx.col)).astype(np.int64))\n",
        "    values = torch.from_numpy(sparse_mx.data)\n",
        "    shape = torch.Size(sparse_mx.shape)\n",
        "    return torch.sparse.FloatTensor(indices, values, shape)\n",
        "\n",
        "\n",
        "\n",
        "\"\"\"Load citation network dataset (dblp only for now)\"\"\"\n",
        "adj_file=open('edges.pkl','rb')\n",
        "label_file=open('labels.pkl','rb')\n",
        "adj_list=pickle.load(adj_file)\n",
        "labels_list=pickle.load(label_file)\n",
        "adj=adj_list[0]+adj_list[1]+adj_list[2]+adj_list[3]\n",
        "label=labels_list[0]+labels_list[1]+labels_list[2]\n",
        "labels=np.array(label)\n"
      ],
      "metadata": {
        "colab": {
          "base_uri": "https://localhost:8080/"
        },
        "id": "QASY5bgFKfgm",
        "outputId": "e24e0d64-4a9d-4ced-c9fd-ee3789337c82"
      },
      "execution_count": 31,
      "outputs": [
        {
          "output_type": "stream",
          "name": "stderr",
          "text": [
            "<ipython-input-31-2e86851775c8>:26: DeprecationWarning: Please import `csr_matrix` from the `scipy.sparse` namespace; the `scipy.sparse.csr` namespace is deprecated and will be removed in SciPy 2.0.0.\n",
            "  adj_list=pickle.load(adj_file)\n",
            "<ipython-input-31-2e86851775c8>:26: DeprecationWarning: Please import `csc_matrix` from the `scipy.sparse` namespace; the `scipy.sparse.csc` namespace is deprecated and will be removed in SciPy 2.0.0.\n",
            "  adj_list=pickle.load(adj_file)\n"
          ]
        }
      ]
    },
    {
      "cell_type": "code",
      "source": [
        "# build symmetric adjacency matrix\n",
        "adj = adj + adj.T.multiply(adj.T > adj) - adj.multiply(adj.T > adj)"
      ],
      "metadata": {
        "id": "ECBc6WiPyObo"
      },
      "execution_count": 32,
      "outputs": []
    },
    {
      "cell_type": "code",
      "source": [
        "adj = normalize(adj + sp.eye(adj.shape[0])) #Normalizing for removing gradient vanishing and exploding problem"
      ],
      "metadata": {
        "id": "Gx49Ut18yOpu"
      },
      "execution_count": 33,
      "outputs": []
    },
    {
      "cell_type": "code",
      "source": [
        "idx = np.array(labels[:, 0], dtype=np.int32)\n",
        "idx_train = range(0,2400)\n",
        "idx_val = range(2400, 3200)\n",
        "idx_test = range(3200, 4000)\n",
        "idx_train = torch.LongTensor(idx_train)\n",
        "idx_val = torch.LongTensor(idx_val)\n",
        "idx_test = torch.LongTensor(idx_test)"
      ],
      "metadata": {
        "id": "7K3A1aztyOtY"
      },
      "execution_count": 34,
      "outputs": []
    },
    {
      "cell_type": "code",
      "source": [
        "labels = torch.LongTensor(labels[:, -1])\n",
        "adj = sparse_mx_to_torch_sparse_tensor(adj)"
      ],
      "metadata": {
        "id": "zMHLfcm2ykk0"
      },
      "execution_count": 35,
      "outputs": []
    },
    {
      "cell_type": "code",
      "execution_count": 36,
      "metadata": {
        "id": "41NfF5l_37nd"
      },
      "outputs": [],
      "source": [
        "adj = adj.to(device)\n",
        "labels = labels.to(device)\n",
        "idx_train = idx_train.to(device)\n",
        "idx_val = idx_val.to(device)\n",
        "idx_test = idx_test.to(device)"
      ]
    },
    {
      "cell_type": "code",
      "execution_count": 37,
      "metadata": {
        "id": "YyGUZNeu37nd"
      },
      "outputs": [],
      "source": [
        "class LightGCN(nn.Module):\n",
        "    def __init__(self, num_nodes, embedding_dim, num_layers, num_classes):\n",
        "        super(LightGCN, self).__init__()\n",
        "\n",
        "        self.embedding = nn.Embedding(num_nodes, embedding_dim)\n",
        "        self.num_layers = num_layers\n",
        "        self.classifier = nn.Linear(embedding_dim, num_classes)\n",
        "        nn.init.normal_(self.embedding.weight, std=0.1)\n",
        "\n",
        "    def forward(self, adj):\n",
        "        x = self.embedding.weight\n",
        "        for _ in range(self.num_layers):\n",
        "            x = torch.spmm(adj, x)  # Sparse matrix multiplication\n",
        "\n",
        "        x = self.classifier(x)\n",
        "\n",
        "        return F.log_softmax(x, dim=1)"
      ]
    },
    {
      "cell_type": "code",
      "execution_count": 38,
      "metadata": {
        "colab": {
          "base_uri": "https://localhost:8080/"
        },
        "id": "loVKzSIs37nd",
        "outputId": "94a10b92-de7c-451b-f295-d45575063fb5"
      },
      "outputs": [
        {
          "output_type": "execute_result",
          "data": {
            "text/plain": [
              "4"
            ]
          },
          "metadata": {},
          "execution_count": 38
        }
      ],
      "source": [
        "n_labels = labels.max().item() + 1\n",
        "n_nodes = len(adj)\n",
        "n_labels"
      ]
    },
    {
      "cell_type": "code",
      "execution_count": 39,
      "metadata": {
        "id": "Q1ELipEy37nd"
      },
      "outputs": [],
      "source": [
        "torch.manual_seed(34)\n",
        "\n",
        "model = LightGCN(num_nodes=n_nodes,\n",
        "                 embedding_dim=64,\n",
        "                 num_layers=2,\n",
        "                 num_classes=n_labels)\n",
        "optimizer = optim.Adam(model.parameters(),\n",
        "                       lr=0.001, weight_decay=5e-4)\n",
        "\n",
        "\n",
        "model = model.to(device)\n",
        "\n",
        "def step():\n",
        "    t = time.time()\n",
        "    model.train()\n",
        "    optimizer.zero_grad()\n",
        "    output = model(adj)\n",
        "    loss = F.nll_loss(output[idx_train], labels[idx_train])\n",
        "    acc = accuracy(output[idx_train], labels[idx_train])\n",
        "    loss.backward()\n",
        "    optimizer.step()\n",
        "\n",
        "    return loss.item(), acc\n",
        "\n",
        "def evaluate(idx):\n",
        "    model.eval()\n",
        "    output = model(adj)\n",
        "    loss = F.nll_loss(output[idx], labels[idx])\n",
        "    acc = accuracy(output[idx], labels[idx])\n",
        "\n",
        "    return loss.item(), acc"
      ]
    },
    {
      "cell_type": "code",
      "execution_count": 40,
      "metadata": {
        "id": "P_hJ6AjU37nd"
      },
      "outputs": [],
      "source": [
        "def accuracy(output, labels):\n",
        "    preds = output.max(1)[1].type_as(labels)\n",
        "    correct = preds.eq(labels).double()\n",
        "    correct = correct.sum()\n",
        "    return correct / len(labels)"
      ]
    },
    {
      "cell_type": "code",
      "execution_count": 41,
      "metadata": {
        "colab": {
          "base_uri": "https://localhost:8080/"
        },
        "id": "Ki-5bGT737ne",
        "outputId": "842e422e-08ff-497c-a845-081c61035589"
      },
      "outputs": [
        {
          "output_type": "stream",
          "name": "stderr",
          "text": [
            "  1%|▏         | 14/1000 [00:02<01:48,  9.10it/s]"
          ]
        },
        {
          "output_type": "stream",
          "name": "stdout",
          "text": [
            "Epochs: 0, Train Loss: 1.392, Train Acc: 0.237, Validation Loss: 1.388, Validation Acc: 0.269\n"
          ]
        },
        {
          "output_type": "stream",
          "name": "stderr",
          "text": [
            " 12%|█▏        | 121/1000 [00:02<00:07, 116.17it/s]"
          ]
        },
        {
          "output_type": "stream",
          "name": "stdout",
          "text": [
            "Epochs: 99, Train Loss: 1.053, Train Acc: 0.960, Validation Loss: 1.161, Validation Acc: 0.906\n"
          ]
        },
        {
          "output_type": "stream",
          "name": "stderr",
          "text": [
            " 23%|██▎       | 230/1000 [00:03<00:04, 162.90it/s]"
          ]
        },
        {
          "output_type": "stream",
          "name": "stdout",
          "text": [
            "Epochs: 199, Train Loss: 0.497, Train Acc: 0.983, Validation Loss: 0.715, Validation Acc: 0.924\n"
          ]
        },
        {
          "output_type": "stream",
          "name": "stderr",
          "text": [
            " 33%|███▎      | 326/1000 [00:03<00:03, 186.07it/s]"
          ]
        },
        {
          "output_type": "stream",
          "name": "stdout",
          "text": [
            "Epochs: 299, Train Loss: 0.265, Train Acc: 0.988, Validation Loss: 0.445, Validation Acc: 0.936\n"
          ]
        },
        {
          "output_type": "stream",
          "name": "stderr",
          "text": [
            " 43%|████▎     | 428/1000 [00:04<00:02, 198.17it/s]"
          ]
        },
        {
          "output_type": "stream",
          "name": "stdout",
          "text": [
            "Epochs: 399, Train Loss: 0.176, Train Acc: 0.990, Validation Loss: 0.324, Validation Acc: 0.936\n"
          ]
        },
        {
          "output_type": "stream",
          "name": "stderr",
          "text": [
            " 53%|█████▎    | 532/1000 [00:04<00:02, 200.89it/s]"
          ]
        },
        {
          "output_type": "stream",
          "name": "stdout",
          "text": [
            "Epochs: 499, Train Loss: 0.133, Train Acc: 0.993, Validation Loss: 0.267, Validation Acc: 0.936\n"
          ]
        },
        {
          "output_type": "stream",
          "name": "stderr",
          "text": [
            " 64%|██████▎   | 637/1000 [00:05<00:01, 201.85it/s]"
          ]
        },
        {
          "output_type": "stream",
          "name": "stdout",
          "text": [
            "Epochs: 599, Train Loss: 0.108, Train Acc: 0.995, Validation Loss: 0.236, Validation Acc: 0.935\n"
          ]
        },
        {
          "output_type": "stream",
          "name": "stderr",
          "text": [
            " 72%|███████▏  | 722/1000 [00:05<00:01, 203.51it/s]"
          ]
        },
        {
          "output_type": "stream",
          "name": "stdout",
          "text": [
            "Epochs: 699, Train Loss: 0.093, Train Acc: 0.995, Validation Loss: 0.218, Validation Acc: 0.936\n"
          ]
        },
        {
          "output_type": "stream",
          "name": "stderr",
          "text": [
            " 82%|████████▎ | 825/1000 [00:06<00:00, 196.70it/s]"
          ]
        },
        {
          "output_type": "stream",
          "name": "stdout",
          "text": [
            "Epochs: 799, Train Loss: 0.083, Train Acc: 0.997, Validation Loss: 0.207, Validation Acc: 0.935\n"
          ]
        },
        {
          "output_type": "stream",
          "name": "stderr",
          "text": [
            " 93%|█████████▎| 930/1000 [00:06<00:00, 201.99it/s]"
          ]
        },
        {
          "output_type": "stream",
          "name": "stdout",
          "text": [
            "Epochs: 899, Train Loss: 0.075, Train Acc: 0.997, Validation Loss: 0.199, Validation Acc: 0.936\n"
          ]
        },
        {
          "output_type": "stream",
          "name": "stderr",
          "text": [
            "100%|██████████| 1000/1000 [00:07<00:00, 138.00it/s]"
          ]
        },
        {
          "output_type": "stream",
          "name": "stdout",
          "text": [
            "Epochs: 999, Train Loss: 0.070, Train Acc: 0.997, Validation Loss: 0.194, Validation Acc: 0.938\n"
          ]
        },
        {
          "output_type": "stream",
          "name": "stderr",
          "text": [
            "\n"
          ]
        }
      ],
      "source": [
        "epochs = 1000\n",
        "print_steps = 100\n",
        "train_loss, train_acc = [], []\n",
        "val_loss, val_acc = [], []\n",
        "\n",
        "for i in tqdm(range(epochs)):\n",
        "    tl, ta = step()\n",
        "    train_loss += [tl]\n",
        "    train_acc += [ta]\n",
        "\n",
        "    if((i+1)%print_steps) == 0 or i == 0:\n",
        "        tl, ta = evaluate(idx_train)\n",
        "        vl, va = evaluate(idx_val)\n",
        "        val_loss += [vl]\n",
        "        val_acc += [va]\n",
        "\n",
        "        print('Epochs: {}, Train Loss: {:.3f}, Train Acc: {:.3f}, Validation Loss: {:.3f}, Validation Acc: {:.3f}'.format(i, tl, ta, vl, va))"
      ]
    },
    {
      "cell_type": "code",
      "execution_count": 42,
      "metadata": {
        "id": "rZPBcgUT37ne",
        "colab": {
          "base_uri": "https://localhost:8080/",
          "height": 470
        },
        "outputId": "b900ebca-3a33-4d91-cc77-9858b904653c"
      },
      "outputs": [
        {
          "output_type": "display_data",
          "data": {
            "text/plain": [
              "<Figure size 1500x500 with 2 Axes>"
            ],
            "image/png": "[encoded data removed]"
          },
          "metadata": {}
        }
      ],
      "source": [
        "fig, axes = plt.subplots(1,2, figsize=(15,5))\n",
        "\n",
        "ax = axes[0]\n",
        "axes[0].plot(train_loss[::print_steps] + [train_loss[-1]], label='Train')\n",
        "axes[0].plot(val_loss, label='Validation')\n",
        "train_acc_cpu = [t.cpu().numpy() if isinstance(t, torch.Tensor) else t for t in train_acc]\n",
        "val_acc_cpu = [t.cpu().numpy() if isinstance(t, torch.Tensor) else t for t in val_acc]\n",
        "axes[1].plot(train_acc_cpu[::print_steps] + [train_acc_cpu[-1]], label='Train')\n",
        "axes[1].plot(val_acc_cpu, label='Validation')\n",
        "axes[0].grid()\n",
        "axes[1].grid()\n",
        "\n",
        "for ax, t in zip(axes, ['Loss','Accuracy']):\n",
        "    ax.legend(), ax.set_title(t, size=15)"
      ]
    },
    {
      "cell_type": "code",
      "execution_count": 43,
      "metadata": {
        "id": "BTP2_33l37ne"
      },
      "outputs": [],
      "source": [
        "output = model(adj)"
      ]
    },
    {
      "cell_type": "code",
      "execution_count": 44,
      "metadata": {
        "id": "Osv-fqcS37ne",
        "colab": {
          "base_uri": "https://localhost:8080/",
          "height": 211
        },
        "outputId": "ad85e4d9-f3a0-4506-8899-8cb9d08f0c9e"
      },
      "outputs": [
        {
          "output_type": "error",
          "ename": "NameError",
          "evalue": "name 'lbl2idx' is not defined",
          "traceback": [
            "\u001b[0;31m---------------------------------------------------------------------------\u001b[0m",
            "\u001b[0;31mNameError\u001b[0m                                 Traceback (most recent call last)",
            "\u001b[0;32m<ipython-input-44-31a7ad790c99>\u001b[0m in \u001b[0;36m<cell line: 4>\u001b[0;34m()\u001b[0m\n\u001b[1;32m      2\u001b[0m \u001b[0midx_sample\u001b[0m \u001b[0;34m=\u001b[0m \u001b[0midx_test\u001b[0m\u001b[0;34m[\u001b[0m\u001b[0mtorch\u001b[0m\u001b[0;34m.\u001b[0m\u001b[0mrandperm\u001b[0m\u001b[0;34m(\u001b[0m\u001b[0mlen\u001b[0m\u001b[0;34m(\u001b[0m\u001b[0midx_test\u001b[0m\u001b[0;34m)\u001b[0m\u001b[0;34m)\u001b[0m\u001b[0;34m[\u001b[0m\u001b[0;34m:\u001b[0m\u001b[0msamples\u001b[0m\u001b[0;34m]\u001b[0m\u001b[0;34m]\u001b[0m\u001b[0;34m\u001b[0m\u001b[0;34m\u001b[0m\u001b[0m\n\u001b[1;32m      3\u001b[0m \u001b[0;34m\u001b[0m\u001b[0m\n\u001b[0;32m----> 4\u001b[0;31m \u001b[0midx2lbl\u001b[0m \u001b[0;34m=\u001b[0m \u001b[0;34m{\u001b[0m\u001b[0mv\u001b[0m\u001b[0;34m:\u001b[0m\u001b[0mk\u001b[0m \u001b[0;32mfor\u001b[0m \u001b[0mk\u001b[0m\u001b[0;34m,\u001b[0m\u001b[0mv\u001b[0m \u001b[0;32min\u001b[0m \u001b[0mlbl2idx\u001b[0m\u001b[0;34m.\u001b[0m\u001b[0mitems\u001b[0m\u001b[0;34m(\u001b[0m\u001b[0;34m)\u001b[0m\u001b[0;34m}\u001b[0m\u001b[0;34m\u001b[0m\u001b[0;34m\u001b[0m\u001b[0m\n\u001b[0m\u001b[1;32m      5\u001b[0m df = pd.DataFrame({'Real': [idx2lbl[e] for e in labels[idx_sample].tolist()],\n\u001b[1;32m      6\u001b[0m                    'Pred': [idx2lbl[e] for e in output[idx_sample].argmax(1).tolist()]})\n",
            "\u001b[0;31mNameError\u001b[0m: name 'lbl2idx' is not defined"
          ]
        }
      ],
      "source": [
        "samples = 10\n",
        "idx_sample = idx_test[torch.randperm(len(idx_test))[:samples]]\n",
        "\n",
        "idx2lbl = {v:k for k,v in lbl2idx.items()}\n",
        "df = pd.DataFrame({'Real': [idx2lbl[e] for e in labels[idx_sample].tolist()],\n",
        "                   'Pred': [idx2lbl[e] for e in output[idx_sample].argmax(1).tolist()]})\n",
        "df"
      ]
    },
    {
      "cell_type": "code",
      "execution_count": null,
      "metadata": {
        "id": "tXLH2A4937ne"
      },
      "outputs": [],
      "source": []
    }
  ],
  "metadata": {
    "kernelspec": {
      "display_name": "Python 3",
      "name": "python3"
    },
    "language_info": {
      "codemirror_mode": {
        "name": "ipython",
        "version": 3
      },
      "file_extension": ".py",
      "mimetype": "text/x-python",
      "name": "python",
      "nbconvert_exporter": "python",
      "pygments_lexer": "ipython3",
      "version": "3.8.19"
    },
    "colab": {
      "provenance": [],
      "gpuType": "T4"
    },
    "accelerator": "GPU"
  },
  "nbformat": 4,
  "nbformat_minor": 0
}